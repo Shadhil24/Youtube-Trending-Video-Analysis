{
 "cells": [
  {
   "cell_type": "code",
   "execution_count": 1,
   "id": "4cea71ca",
   "metadata": {},
   "outputs": [],
   "source": [
    "import pandas as pd\n",
    "import numpy as np\n",
    "import seaborn as sns\n",
    "sns.set(style='darkgrid')\n"
   ]
  },
  {
   "cell_type": "code",
   "execution_count": 2,
   "id": "9790b757",
   "metadata": {},
   "outputs": [],
   "source": [
    "us=pd.read_csv('archive/USvideos.csv')"
   ]
  },
  {
   "cell_type": "code",
   "execution_count": 3,
   "id": "b41e0448",
   "metadata": {},
   "outputs": [
    {
     "data": {
      "text/plain": [
       "(40949, 16)"
      ]
     },
     "execution_count": 3,
     "metadata": {},
     "output_type": "execute_result"
    }
   ],
   "source": [
    "us.shape"
   ]
  },
  {
   "cell_type": "code",
   "execution_count": 4,
   "id": "40635da0",
   "metadata": {},
   "outputs": [
    {
     "data": {
      "text/plain": [
       "Index(['video_id', 'trending_date', 'title', 'channel_title', 'category_id',\n",
       "       'publish_time', 'tags', 'views', 'likes', 'dislikes', 'comment_count',\n",
       "       'thumbnail_link', 'comments_disabled', 'ratings_disabled',\n",
       "       'video_error_or_removed', 'description'],\n",
       "      dtype='object')"
      ]
     },
     "execution_count": 4,
     "metadata": {},
     "output_type": "execute_result"
    }
   ],
   "source": [
    "us.columns"
   ]
  },
  {
   "cell_type": "code",
   "execution_count": 5,
   "id": "813224d7",
   "metadata": {},
   "outputs": [
    {
     "data": {
      "text/plain": [
       "video_id                  object\n",
       "trending_date             object\n",
       "title                     object\n",
       "channel_title             object\n",
       "category_id                int64\n",
       "publish_time              object\n",
       "tags                      object\n",
       "views                      int64\n",
       "likes                      int64\n",
       "dislikes                   int64\n",
       "comment_count              int64\n",
       "thumbnail_link            object\n",
       "comments_disabled           bool\n",
       "ratings_disabled            bool\n",
       "video_error_or_removed      bool\n",
       "description               object\n",
       "dtype: object"
      ]
     },
     "execution_count": 5,
     "metadata": {},
     "output_type": "execute_result"
    }
   ],
   "source": [
    "us.dtypes"
   ]
  },
  {
   "cell_type": "code",
   "execution_count": 6,
   "id": "5e45bf2b",
   "metadata": {},
   "outputs": [
    {
     "data": {
      "text/html": [
       "<div>\n",
       "<style scoped>\n",
       "    .dataframe tbody tr th:only-of-type {\n",
       "        vertical-align: middle;\n",
       "    }\n",
       "\n",
       "    .dataframe tbody tr th {\n",
       "        vertical-align: top;\n",
       "    }\n",
       "\n",
       "    .dataframe thead th {\n",
       "        text-align: right;\n",
       "    }\n",
       "</style>\n",
       "<table border=\"1\" class=\"dataframe\">\n",
       "  <thead>\n",
       "    <tr style=\"text-align: right;\">\n",
       "      <th></th>\n",
       "      <th>trending_date</th>\n",
       "      <th>publish_time</th>\n",
       "    </tr>\n",
       "  </thead>\n",
       "  <tbody>\n",
       "    <tr>\n",
       "      <th>0</th>\n",
       "      <td>17.14.11</td>\n",
       "      <td>2017-11-13T17:13:01.000Z</td>\n",
       "    </tr>\n",
       "    <tr>\n",
       "      <th>1</th>\n",
       "      <td>17.14.11</td>\n",
       "      <td>2017-11-13T07:30:00.000Z</td>\n",
       "    </tr>\n",
       "    <tr>\n",
       "      <th>2</th>\n",
       "      <td>17.14.11</td>\n",
       "      <td>2017-11-12T19:05:24.000Z</td>\n",
       "    </tr>\n",
       "    <tr>\n",
       "      <th>3</th>\n",
       "      <td>17.14.11</td>\n",
       "      <td>2017-11-13T11:00:04.000Z</td>\n",
       "    </tr>\n",
       "    <tr>\n",
       "      <th>4</th>\n",
       "      <td>17.14.11</td>\n",
       "      <td>2017-11-12T18:01:41.000Z</td>\n",
       "    </tr>\n",
       "  </tbody>\n",
       "</table>\n",
       "</div>"
      ],
      "text/plain": [
       "  trending_date              publish_time\n",
       "0      17.14.11  2017-11-13T17:13:01.000Z\n",
       "1      17.14.11  2017-11-13T07:30:00.000Z\n",
       "2      17.14.11  2017-11-12T19:05:24.000Z\n",
       "3      17.14.11  2017-11-13T11:00:04.000Z\n",
       "4      17.14.11  2017-11-12T18:01:41.000Z"
      ]
     },
     "execution_count": 6,
     "metadata": {},
     "output_type": "execute_result"
    }
   ],
   "source": [
    "us[['trending_date','publish_time']].head()"
   ]
  },
  {
   "cell_type": "code",
   "execution_count": 7,
   "id": "3598e5b2",
   "metadata": {},
   "outputs": [],
   "source": [
    "us['publish_time']=us['publish_time'].astype('datetime64[ns]')"
   ]
  },
  {
   "cell_type": "code",
   "execution_count": 8,
   "id": "65fcfcdc",
   "metadata": {},
   "outputs": [],
   "source": [
    "us['trending_date']=['20']+ us['trending_date']"
   ]
  },
  {
   "cell_type": "code",
   "execution_count": 9,
   "id": "495fc4d7",
   "metadata": {},
   "outputs": [],
   "source": [
    "us['trending_date'] = pd.to_datetime(us['trending_date'], format = \"%Y.%d.%m\")"
   ]
  },
  {
   "cell_type": "code",
   "execution_count": 10,
   "id": "d77c82e2",
   "metadata": {},
   "outputs": [
    {
     "data": {
      "text/plain": [
       "trending_date    datetime64[ns]\n",
       "publish_time     datetime64[ns]\n",
       "dtype: object"
      ]
     },
     "execution_count": 10,
     "metadata": {},
     "output_type": "execute_result"
    }
   ],
   "source": [
    "us[['trending_date','publish_time']].dtypes"
   ]
  },
  {
   "cell_type": "markdown",
   "id": "5b76b40f",
   "metadata": {},
   "source": [
    "### The difference between the time a video is published and its trending time might be a useful piece of information for the analysis. Since both columns have datetime data type, we can easily calculate the time difference."
   ]
  },
  {
   "cell_type": "code",
   "execution_count": 11,
   "id": "ee046274",
   "metadata": {},
   "outputs": [],
   "source": [
    "us['time_diff'] = us['trending_date'] - us['publish_time']"
   ]
  },
  {
   "cell_type": "code",
   "execution_count": 12,
   "id": "d6c84674",
   "metadata": {},
   "outputs": [
    {
     "data": {
      "text/plain": [
       "0   0 days 06:46:59\n",
       "1   0 days 16:30:00\n",
       "2   1 days 04:54:36\n",
       "3   0 days 12:59:56\n",
       "4   1 days 05:58:19\n",
       "Name: time_diff, dtype: timedelta64[ns]"
      ]
     },
     "execution_count": 12,
     "metadata": {},
     "output_type": "execute_result"
    }
   ],
   "source": [
    "us['time_diff'][:5]"
   ]
  },
  {
   "cell_type": "code",
   "execution_count": 13,
   "id": "2a981348",
   "metadata": {},
   "outputs": [
    {
     "name": "stdout",
     "output_type": "stream",
     "text": [
      "2017-11-13\n"
     ]
    }
   ],
   "source": [
    "print(us['publish_time'].dt.date[0])"
   ]
  },
  {
   "cell_type": "code",
   "execution_count": 14,
   "id": "68e6a5c8",
   "metadata": {},
   "outputs": [
    {
     "name": "stdout",
     "output_type": "stream",
     "text": [
      "17:13:01\n"
     ]
    }
   ],
   "source": [
    "print(us['publish_time'].dt.time[0])"
   ]
  },
  {
   "cell_type": "code",
   "execution_count": 15,
   "id": "c60d33da",
   "metadata": {},
   "outputs": [
    {
     "data": {
      "text/plain": [
       "0                   WE WANT TO TALK ABOUT OUR MARRIAGE\n",
       "1    The Trump Presidency: Last Week Tonight with J...\n",
       "2    Racist Superman | Rudy Mancuso, King Bach & Le...\n",
       "3                     Nickelback Lyrics: Real or Fake?\n",
       "4                             I Dare You: GOING BALD!?\n",
       "Name: title, dtype: object"
      ]
     },
     "execution_count": 15,
     "metadata": {},
     "output_type": "execute_result"
    }
   ],
   "source": [
    "us['title'][:5]"
   ]
  },
  {
   "cell_type": "code",
   "execution_count": 16,
   "id": "9f218749",
   "metadata": {},
   "outputs": [
    {
     "data": {
      "text/plain": [
       "0                   we want to talk about our marriage\n",
       "1    the trump presidency: last week tonight with j...\n",
       "2    racist superman | rudy mancuso, king bach & le...\n",
       "3                     nickelback lyrics: real or fake?\n",
       "4                             i dare you: going bald!?\n",
       "Name: title, dtype: object"
      ]
     },
     "execution_count": 16,
     "metadata": {},
     "output_type": "execute_result"
    }
   ],
   "source": [
    "us['title'] = us['title'].str.lower()\n",
    "us['title'][:5]"
   ]
  },
  {
   "cell_type": "markdown",
   "id": "b0209a4e",
   "metadata": {},
   "source": [
    "### Removing Puntuations from the data"
   ]
  },
  {
   "cell_type": "code",
   "execution_count": 17,
   "id": "512b3b1f",
   "metadata": {},
   "outputs": [
    {
     "name": "stderr",
     "output_type": "stream",
     "text": [
      "C:\\Users\\ShadhilSirajudheen\\.conda\\envs\\tf2\\lib\\site-packages\\ipykernel_launcher.py:1: FutureWarning: The default value of regex will change from True to False in a future version.\n",
      "  \"\"\"Entry point for launching an IPython kernel.\n"
     ]
    },
    {
     "data": {
      "text/plain": [
       "0                   we want to talk about our marriage\n",
       "1    the trump presidency last week tonight with jo...\n",
       "2    racist superman  rudy mancuso king bach  lele ...\n",
       "3                       nickelback lyrics real or fake\n",
       "4                                i dare you going bald\n",
       "Name: title, dtype: object"
      ]
     },
     "execution_count": 17,
     "metadata": {},
     "output_type": "execute_result"
    }
   ],
   "source": [
    "us['title'] = us['title'].str.replace(r'[^\\w\\s]+', '')\n",
    "us['title'][:5]"
   ]
  },
  {
   "cell_type": "code",
   "execution_count": 18,
   "id": "0251f233",
   "metadata": {},
   "outputs": [
    {
     "data": {
      "text/plain": [
       "'the trump presidency last week tonight with john oliver hbo'"
      ]
     },
     "execution_count": 18,
     "metadata": {},
     "output_type": "execute_result"
    }
   ],
   "source": [
    "us['title'][1]"
   ]
  },
  {
   "cell_type": "markdown",
   "id": "1a40d4c4",
   "metadata": {},
   "source": [
    "#### The data type of the time diff column is timedelta which allows for using aggregate functions so we can apply the mean function."
   ]
  },
  {
   "cell_type": "code",
   "execution_count": 19,
   "id": "3939d1bd",
   "metadata": {},
   "outputs": [
    {
     "data": {
      "text/plain": [
       "Timedelta('16 days 05:21:53.236220664')"
      ]
     },
     "execution_count": 19,
     "metadata": {},
     "output_type": "execute_result"
    }
   ],
   "source": [
    "us.time_diff.mean()"
   ]
  },
  {
   "cell_type": "code",
   "execution_count": 20,
   "id": "9105a768",
   "metadata": {},
   "outputs": [
    {
     "data": {
      "text/plain": [
       "2207"
      ]
     },
     "execution_count": 20,
     "metadata": {},
     "output_type": "execute_result"
    }
   ],
   "source": [
    "us.channel_title.nunique()"
   ]
  },
  {
   "cell_type": "markdown",
   "id": "65402295",
   "metadata": {},
   "source": [
    "##### The data type of the time_diff column is timedelta. We need to convert it to a numerical variable to plot its distribution."
   ]
  },
  {
   "cell_type": "code",
   "execution_count": 21,
   "id": "cc9356d8",
   "metadata": {},
   "outputs": [],
   "source": [
    "us['time_diff_hour'] = us['time_diff'] / pd.Timedelta('1 hour')"
   ]
  },
  {
   "cell_type": "code",
   "execution_count": 22,
   "id": "e189d8d5",
   "metadata": {},
   "outputs": [
    {
     "data": {
      "text/plain": [
       "<AxesSubplot:ylabel='time_diff_hour'>"
      ]
     },
     "execution_count": 22,
     "metadata": {},
     "output_type": "execute_result"
    },
    {
     "data": {
      "image/png": "[encoded data removed]",
      "text/plain": [
       "<Figure size 432x288 with 1 Axes>"
      ]
     },
     "metadata": {
      "needs_background": "light"
     },
     "output_type": "display_data"
    }
   ],
   "source": [
    "sns.boxplot(data=us, y='time_diff_hour')"
   ]
  },
  {
   "cell_type": "code",
   "execution_count": 23,
   "id": "a1c48f0e",
   "metadata": {},
   "outputs": [
    {
     "data": {
      "text/plain": [
       "40949"
      ]
     },
     "execution_count": 23,
     "metadata": {},
     "output_type": "execute_result"
    }
   ],
   "source": [
    "len(us)\n"
   ]
  },
  {
   "cell_type": "code",
   "execution_count": 24,
   "id": "894424e1",
   "metadata": {},
   "outputs": [
    {
     "data": {
      "text/plain": [
       "588"
      ]
     },
     "execution_count": 24,
     "metadata": {},
     "output_type": "execute_result"
    }
   ],
   "source": [
    "len(us[us.time_diff_hour > 600])"
   ]
  },
  {
   "cell_type": "markdown",
   "id": "9c738b40",
   "metadata": {},
   "source": [
    "##### The number of rows in which the time difference is more than 600 hours is 588 which is very small compared to the total number rows in the dataset. Thus, we can drop these outliers."
   ]
  },
  {
   "cell_type": "code",
   "execution_count": 25,
   "id": "5b79b7b8",
   "metadata": {},
   "outputs": [],
   "source": [
    "us = us[us.time_diff_hour <= 600]"
   ]
  },
  {
   "cell_type": "code",
   "execution_count": 26,
   "id": "4c8b150c",
   "metadata": {},
   "outputs": [
    {
     "data": {
      "text/plain": [
       "<seaborn.axisgrid.FacetGrid at 0x19d819e0b08>"
      ]
     },
     "execution_count": 26,
     "metadata": {},
     "output_type": "execute_result"
    },
    {
     "data": {
      "image/png": "[encoded data removed]",
      "text/plain": [
       "<Figure size 540x360 with 1 Axes>"
      ]
     },
     "metadata": {
      "needs_background": "light"
     },
     "output_type": "display_data"
    }
   ],
   "source": [
    "sns.displot(data=us, x='time_diff_hour', kind='hist',\n",
    "aspect=1.5, bins=20)"
   ]
  },
  {
   "cell_type": "markdown",
   "id": "b8671adb",
   "metadata": {},
   "source": [
    "# Most of the values are around 100 so it is like to become trending in approximately 4 days."
   ]
  },
  {
   "cell_type": "code",
   "execution_count": 34,
   "id": "06037cbe",
   "metadata": {},
   "outputs": [
    {
     "data": {
      "text/plain": [
       "ESPN                                      203\n",
       "The Tonight Show Starring Jimmy Fallon    197\n",
       "TheEllenShow                              193\n",
       "Vox                                       193\n",
       "Netflix                                   193\n",
       "The Late Show with Stephen Colbert        187\n",
       "Jimmy Kimmel Live                         186\n",
       "Late Night with Seth Meyers               183\n",
       "Screen Junkies                            182\n",
       "NBA                                       181\n",
       "Name: channel_title, dtype: int64"
      ]
     },
     "execution_count": 34,
     "metadata": {},
     "output_type": "execute_result"
    }
   ],
   "source": [
    "us.channel_title.value_counts()[:10]"
   ]
  },
  {
   "cell_type": "code",
   "execution_count": 30,
   "id": "cd1035eb",
   "metadata": {},
   "outputs": [],
   "source": [
    "us['views_mil'] = us['views'] / 1000000"
   ]
  },
  {
   "cell_type": "code",
   "execution_count": 31,
   "id": "3f078586",
   "metadata": {},
   "outputs": [
    {
     "data": {
      "text/plain": [
       "0        0.748374\n",
       "1        2.418783\n",
       "2        3.191434\n",
       "3        0.343168\n",
       "4        2.095731\n",
       "           ...   \n",
       "40932    1.437051\n",
       "40933    0.979732\n",
       "40934    8.607264\n",
       "40935    4.945185\n",
       "40936    3.229540\n",
       "Name: views_mil, Length: 40361, dtype: float64"
      ]
     },
     "execution_count": 31,
     "metadata": {},
     "output_type": "execute_result"
    }
   ],
   "source": [
    "us.views_mil"
   ]
  },
  {
   "cell_type": "code",
   "execution_count": 33,
   "id": "8d56ff10",
   "metadata": {},
   "outputs": [
    {
     "data": {
      "text/html": [
       "<div>\n",
       "<style scoped>\n",
       "    .dataframe tbody tr th:only-of-type {\n",
       "        vertical-align: middle;\n",
       "    }\n",
       "\n",
       "    .dataframe tbody tr th {\n",
       "        vertical-align: top;\n",
       "    }\n",
       "\n",
       "    .dataframe thead tr th {\n",
       "        text-align: left;\n",
       "    }\n",
       "\n",
       "    .dataframe thead tr:last-of-type th {\n",
       "        text-align: right;\n",
       "    }\n",
       "</style>\n",
       "<table border=\"1\" class=\"dataframe\">\n",
       "  <thead>\n",
       "    <tr>\n",
       "      <th></th>\n",
       "      <th colspan=\"2\" halign=\"left\">views_mil</th>\n",
       "    </tr>\n",
       "    <tr>\n",
       "      <th></th>\n",
       "      <th>mean</th>\n",
       "      <th>count</th>\n",
       "    </tr>\n",
       "    <tr>\n",
       "      <th>channel_title</th>\n",
       "      <th></th>\n",
       "      <th></th>\n",
       "    </tr>\n",
       "  </thead>\n",
       "  <tbody>\n",
       "    <tr>\n",
       "      <th>ESPN</th>\n",
       "      <td>0.520464</td>\n",
       "      <td>203</td>\n",
       "    </tr>\n",
       "    <tr>\n",
       "      <th>The Tonight Show Starring Jimmy Fallon</th>\n",
       "      <td>1.377799</td>\n",
       "      <td>197</td>\n",
       "    </tr>\n",
       "    <tr>\n",
       "      <th>Vox</th>\n",
       "      <td>0.635409</td>\n",
       "      <td>193</td>\n",
       "    </tr>\n",
       "    <tr>\n",
       "      <th>Netflix</th>\n",
       "      <td>0.962789</td>\n",
       "      <td>193</td>\n",
       "    </tr>\n",
       "    <tr>\n",
       "      <th>TheEllenShow</th>\n",
       "      <td>1.315244</td>\n",
       "      <td>193</td>\n",
       "    </tr>\n",
       "    <tr>\n",
       "      <th>The Late Show with Stephen Colbert</th>\n",
       "      <td>0.661367</td>\n",
       "      <td>187</td>\n",
       "    </tr>\n",
       "    <tr>\n",
       "      <th>Jimmy Kimmel Live</th>\n",
       "      <td>1.534509</td>\n",
       "      <td>186</td>\n",
       "    </tr>\n",
       "    <tr>\n",
       "      <th>Late Night with Seth Meyers</th>\n",
       "      <td>0.992362</td>\n",
       "      <td>183</td>\n",
       "    </tr>\n",
       "    <tr>\n",
       "      <th>Screen Junkies</th>\n",
       "      <td>1.753162</td>\n",
       "      <td>182</td>\n",
       "    </tr>\n",
       "    <tr>\n",
       "      <th>NBA</th>\n",
       "      <td>0.400025</td>\n",
       "      <td>181</td>\n",
       "    </tr>\n",
       "  </tbody>\n",
       "</table>\n",
       "</div>"
      ],
      "text/plain": [
       "                                       views_mil      \n",
       "                                            mean count\n",
       "channel_title                                         \n",
       "ESPN                                    0.520464   203\n",
       "The Tonight Show Starring Jimmy Fallon  1.377799   197\n",
       "Vox                                     0.635409   193\n",
       "Netflix                                 0.962789   193\n",
       "TheEllenShow                            1.315244   193\n",
       "The Late Show with Stephen Colbert      0.661367   187\n",
       "Jimmy Kimmel Live                       1.534509   186\n",
       "Late Night with Seth Meyers             0.992362   183\n",
       "Screen Junkies                          1.753162   182\n",
       "NBA                                     0.400025   181"
      ]
     },
     "execution_count": 33,
     "metadata": {},
     "output_type": "execute_result"
    }
   ],
   "source": [
    "us[['channel_title','views_mil']].groupby('channel_title').agg(['mean','count']).sort_values(by=('views_mil','count'), ascending=False)[:10]"
   ]
  },
  {
   "cell_type": "markdown",
   "id": "5cde4d7b",
   "metadata": {},
   "source": [
    "## The Screen Junkies channel has the highest average which is about 1.75 million per video. ESPN has the second lowest average although it has the highest number of trending videos."
   ]
  },
  {
   "cell_type": "code",
   "execution_count": 35,
   "id": "e2cd6374",
   "metadata": {},
   "outputs": [],
   "source": [
    "daily = us[['trending_date']].value_counts().reset_index().sort_values(by='trending_date').reset_index(drop=True)"
   ]
  },
  {
   "cell_type": "code",
   "execution_count": 36,
   "id": "05db01ec",
   "metadata": {},
   "outputs": [
    {
     "data": {
      "text/html": [
       "<div>\n",
       "<style scoped>\n",
       "    .dataframe tbody tr th:only-of-type {\n",
       "        vertical-align: middle;\n",
       "    }\n",
       "\n",
       "    .dataframe tbody tr th {\n",
       "        vertical-align: top;\n",
       "    }\n",
       "\n",
       "    .dataframe thead th {\n",
       "        text-align: right;\n",
       "    }\n",
       "</style>\n",
       "<table border=\"1\" class=\"dataframe\">\n",
       "  <thead>\n",
       "    <tr style=\"text-align: right;\">\n",
       "      <th></th>\n",
       "      <th>trending_date</th>\n",
       "      <th>0</th>\n",
       "    </tr>\n",
       "  </thead>\n",
       "  <tbody>\n",
       "    <tr>\n",
       "      <th>0</th>\n",
       "      <td>2017-11-14</td>\n",
       "      <td>192</td>\n",
       "    </tr>\n",
       "    <tr>\n",
       "      <th>1</th>\n",
       "      <td>2017-11-15</td>\n",
       "      <td>195</td>\n",
       "    </tr>\n",
       "    <tr>\n",
       "      <th>2</th>\n",
       "      <td>2017-11-16</td>\n",
       "      <td>195</td>\n",
       "    </tr>\n",
       "    <tr>\n",
       "      <th>3</th>\n",
       "      <td>2017-11-17</td>\n",
       "      <td>197</td>\n",
       "    </tr>\n",
       "    <tr>\n",
       "      <th>4</th>\n",
       "      <td>2017-11-18</td>\n",
       "      <td>199</td>\n",
       "    </tr>\n",
       "  </tbody>\n",
       "</table>\n",
       "</div>"
      ],
      "text/plain": [
       "  trending_date    0\n",
       "0    2017-11-14  192\n",
       "1    2017-11-15  195\n",
       "2    2017-11-16  195\n",
       "3    2017-11-17  197\n",
       "4    2017-11-18  199"
      ]
     },
     "execution_count": 36,
     "metadata": {},
     "output_type": "execute_result"
    }
   ],
   "source": [
    "daily.head()"
   ]
  },
  {
   "cell_type": "markdown",
   "id": "67cc7023",
   "metadata": {},
   "source": [
    "### The daily dataframe contains the date and the number of videos that become trending in each date."
   ]
  },
  {
   "cell_type": "code",
   "execution_count": 37,
   "id": "0d4f627c",
   "metadata": {},
   "outputs": [
    {
     "data": {
      "text/plain": [
       "<seaborn.axisgrid.FacetGrid at 0x19d817e4b88>"
      ]
     },
     "execution_count": 37,
     "metadata": {},
     "output_type": "execute_result"
    },
    {
     "data": {
      "image/png": "[encoded data removed]",
      "text/plain": [
       "<Figure size 900x360 with 1 Axes>"
      ]
     },
     "metadata": {
      "needs_background": "light"
     },
     "output_type": "display_data"
    }
   ],
   "source": [
    "sns.relplot(data=daily, x='trending_date', y=0,kind='line', aspect=2.5)"
   ]
  },
  {
   "cell_type": "code",
   "execution_count": 38,
   "id": "981d40c0",
   "metadata": {},
   "outputs": [
    {
     "data": {
      "text/plain": [
       "title    childish gambino  this is america official video\n",
       "views                                           217750076\n",
       "Name: 38146, dtype: object"
      ]
     },
     "execution_count": 38,
     "metadata": {},
     "output_type": "execute_result"
    }
   ],
   "source": [
    "us.sort_values(by='views', ascending=False)[['title','views']].iloc[0,:]"
   ]
  },
  {
   "cell_type": "code",
   "execution_count": null,
   "id": "9335958a",
   "metadata": {},
   "outputs": [],
   "source": []
  }
 ],
 "metadata": {
  "kernelspec": {
   "display_name": "Python 3 (ipykernel)",
   "language": "python",
   "name": "python3"
  },
  "language_info": {
   "codemirror_mode": {
    "name": "ipython",
    "version": 3
   },
   "file_extension": ".py",
   "mimetype": "text/x-python",
   "name": "python",
   "nbconvert_exporter": "python",
   "pygments_lexer": "ipython3",
   "version": "3.7.13"
  }
 },
 "nbformat": 4,
 "nbformat_minor": 5
}
